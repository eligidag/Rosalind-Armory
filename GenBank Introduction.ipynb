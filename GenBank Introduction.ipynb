{
 "cells": [
  {
   "cell_type": "code",
   "execution_count": 1,
   "metadata": {},
   "outputs": [],
   "source": [
    "#Given: A genus name, followed by two dates in YYYY/M/D format.\n",
    "\n",
    "#Return: The number of Nucleotide GenBank entries for the given genus that were published between the dates specified."
   ]
  },
  {
   "cell_type": "code",
   "execution_count": 2,
   "metadata": {},
   "outputs": [
    {
     "name": "stdout",
     "output_type": "stream",
     "text": [
      "entries: 15\n"
     ]
    }
   ],
   "source": [
    "from Bio import Entrez\n",
    "Entrez.email = \"gamuacc@gmail.com\"\n",
    "genus_name = \"Orcinus\"\n",
    "start_date = \"2004/08/20\"\n",
    "end_date = \"2006/06/01\"\n",
    "\n",
    "search_term = f'\"{genus_name}\"[Organism] AND (\"{start_date}\"[PDAT] : \"{end_date}\"[PDAT])'\n",
    "\n",
    "handle = Entrez.esearch(db=\"nucleotide\", term=search_term)\n",
    "\n",
    "record = Entrez.read(handle)\n",
    "print(\"entries:\", record[\"Count\"])\n"
   ]
  }
 ],
 "metadata": {
  "kernelspec": {
   "display_name": "Python 3",
   "language": "python",
   "name": "python3"
  },
  "language_info": {
   "codemirror_mode": {
    "name": "ipython",
    "version": 3
   },
   "file_extension": ".py",
   "mimetype": "text/x-python",
   "name": "python",
   "nbconvert_exporter": "python",
   "pygments_lexer": "ipython3",
   "version": "3.12.2"
  }
 },
 "nbformat": 4,
 "nbformat_minor": 2
}
